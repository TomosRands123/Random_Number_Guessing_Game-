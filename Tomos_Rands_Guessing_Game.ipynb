{
 "cells": [
  {
   "cell_type": "markdown",
   "metadata": {},
   "source": [
    "<h3 style=\"color:red\"> THIS COPY IS FILLED OUT</h3>"
   ]
  },
  {
   "cell_type": "markdown",
   "metadata": {},
   "source": [
    "<h1 style=\"text-align:center; font-size: 5em;\">Project: Guessing Game</h1>\n",
    "<hr style=\"border:2px solid\">\n",
    "<h1 style=\"text-align:center; font-size: 3em;\">Project Overview</h1>\n",
    "<hr style=\"border-top:1px dashed\">\n",
    "\n",
    "\n",
    "### Welcome to the First Python Project! \n",
    "\n",
    "In this project, you will be creating a random number guessing game using the foundations you were taught. This project has two types of requirements:\n",
    "\n",
    "### Technical Requirements:\n",
    "Technical Requirements are designed to guide you on your project. These will help point you in the right direction as well as show you what we will be looking for when reviewing your project. These requirements will be focused towards the specific coding aspects you use.\n",
    "\n",
    "### Functional Requirements:\n",
    "Functional Requirements are designed to provoke thought throughout your project. These will be based in theory rather than code. These requirements will assist in shaping your output of each task.\n",
    "\n",
    "#### Make sure to read all of the instructions at least twice.\n",
    "\n",
    "<hr style=\"border:2px solid\">\n",
    "<h1 style=\"text-align:center; font-size: 3em;\">Project Requirements</h1>\n",
    "<hr style=\"border-top:1px dashed\">\n",
    "\n",
    "### Functional Requirements:\n",
    "Your task is to create a game in which you generate a random number and compare it to a user's input. If the user guesses the random number correctly they win! If they do not guess it correctly within three attempts they lose.\n",
    "\n",
    "- Tell the user the number range they will be guessing within\n",
    "- Ask the user for an input\n",
    "- Print what they answered and state if it is correct or incorrect\n",
    "- Then print whether or not it is higher or lower\n",
    "- If it is incorrect, allow user to guess a total of 3 times\n",
    "- If they are out of guesses or have guessed the correct number Print out their guesses and the correct number\n",
    "- Ask the user if they want to play again\n",
    "- If they decide to stop playing, output the number of attempts and correct guesses\n",
    "\n",
    "\n",
    "### Code Requirements:\n",
    "This project will require an assortment of counter variables that will have to be set on a global scale (they exist outside of all functions). It will also be required to use at least one function that you write. I would recommend you create the barebones of the game, then pretty it up. Do not worry about making incredibly detailed print statements and formatting until you finish the base game.\n",
    "\n",
    "- Import the ``random`` library to create random numbers\n",
    "- Write at least Two function\n",
    "- Check the user input for any types of non-numeric answers\n",
    "- Use several global counters to keep track of user's statistics\n",
    "- Code must have comment's explaining what you did\n",
    "\n",
    "\n",
    "<hr style=\"border:2px solid\">"
   ]
  },
  {
   "cell_type": "markdown",
   "metadata": {},
   "source": [
    "---\n",
    "\n",
    "### Part One:\n",
    "> Please Write in comment code a list of steps that your code will do\n",
    "\n",
    "> These do not need to be overly detailed. Create basic short steps.\n"
   ]
  },
  {
   "cell_type": "code",
   "execution_count": null,
   "metadata": {},
   "outputs": [],
   "source": [
    "# imported random and created the function Random_number_game\n",
    "# called the funtion which allowed the player to have 3 guesses from the number of guesses and number of attempts counts\n",
    "# added the try to make sure only integers can be inputed\n",
    "# added the elif statement to tell the player if the number is higher or lower after thier guesses\n",
    "# added the print for their guess\n",
    "# added the play again function to allow the pleyer to play the game again\n",
    "# called the random number game function in the play again function so the function will run if they eant to play again\n",
    "# called the play again function inside itself so the game can be played again multiple times\n",
    "# added Guesses list and correct guesses to show how many attemots and correct guesses the player had\n",
    "\n",
    "\n"
   ]
  },
  {
   "cell_type": "markdown",
   "metadata": {},
   "source": [
    "---\n",
    "\n",
    "### Part Two:\n",
    "> Build it!\n",
    "\n",
    "> Write your code below.\n",
    "\n",
    "> Work towards a minimal viable product before working on making your output pretty."
   ]
  },
  {
   "cell_type": "code",
   "execution_count": 2,
   "metadata": {},
   "outputs": [
    {
     "name": "stdout",
     "output_type": "stream",
     "text": [
      "Please pick a number from 1-20: 1\n",
      "You guessed: 1\n",
      "Try Again, you have 2 guesses remaining\n",
      "The number is higher\n",
      "Please pick a number from 1-20: 10\n",
      "You guessed: 10\n",
      "Try Again, you have 1 guesses remaining\n",
      "The number is lower\n",
      "Please pick a number from 1-20: 5\n",
      "You guessed: 5\n",
      "Well done, you smashed it in 3 attempt/s\n",
      "Would you like to play the game again? Please type yes/no: no\n",
      "Thank you for playing Tomos' Random Number Game, Hope you had fun!\n",
      "You had 3 attempts and 1 correct guesses\n",
      "Your guesses were: [1, 10, 5]\n"
     ]
    }
   ],
   "source": [
    "import random\n",
    "Guesses = []\n",
    "correct_guesses = 0\n",
    "\n",
    "def Random_Number_Game():\n",
    "    random_number = random.randint(0, 20)\n",
    "    number_of_attempts = 3\n",
    "    number_of_guesses = 0\n",
    "    while number_of_guesses < 3:\n",
    "        Guess = input('Please pick a number from 1-20: ')\n",
    "        number_of_attempts -= 1\n",
    "        number_of_guesses += 1\n",
    "        try:\n",
    "            Guess_int = int(Guess)\n",
    "            if Guess_int == random_number:\n",
    "                global correct_guesses\n",
    "                correct_guesses += 1\n",
    "                print(f'You guessed: {Guess_int}')\n",
    "                print(f'Well done, you smashed it in {number_of_guesses} attempt/s')\n",
    "                Guesses.append(Guess_int)                \n",
    "                break\n",
    "            elif Guess_int < random_number:\n",
    "                print(f'You guessed: {Guess_int}')\n",
    "                print(f'Try Again, you have {number_of_attempts} guesses remaining')\n",
    "                print(f'The number is higher')\n",
    "                Guesses.append(Guess_int)\n",
    "            else:\n",
    "                print(f'You guessed: {Guess_int}')\n",
    "                print(f'Try Again, you have {number_of_attempts} guesses remaining')\n",
    "                print(f'The number is lower')\n",
    "                Guesses.append(Guess_int)\n",
    "        except:\n",
    "            print('Invalid input, please insert a number from 1-20') \n",
    "            print(f'You have {number_of_attempts} guesses remaining')\n",
    "    else:\n",
    "        print(f'You guessed: {Guess_int}')\n",
    "        print('You have run out of guesses')\n",
    "        print(f'The random number is:')\n",
    "        print(random_number)\n",
    "        \n",
    "def play_again():\n",
    "    answer = input('Would you like to play the game again? Please type yes/no: ')\n",
    "    if answer == 'yes':\n",
    "        Random_Number_Game()\n",
    "        play_again()\n",
    "    elif answer == 'no':\n",
    "        print(\"Thank you for playing Tomos' Random Number Game, Hope you had fun!\")\n",
    "        print(f'You had {len(Guesses)} attempts and {correct_guesses} correct guesses')\n",
    "        print(f'Your guesses were: {Guesses}')\n",
    "    else:\n",
    "        print('Invalid input!')\n",
    "        play_again()\n",
    "            \n",
    "Random_Number_Game()\n",
    "play_again()\n"
   ]
  },
  {
   "cell_type": "code",
   "execution_count": null,
   "metadata": {},
   "outputs": [],
   "source": [
    "\n"
   ]
  },
  {
   "cell_type": "code",
   "execution_count": null,
   "metadata": {},
   "outputs": [],
   "source": []
  }
 ],
 "metadata": {
  "kernelspec": {
   "display_name": "Python 3 (ipykernel)",
   "language": "python",
   "name": "python3"
  },
  "language_info": {
   "codemirror_mode": {
    "name": "ipython",
    "version": 3
   },
   "file_extension": ".py",
   "mimetype": "text/x-python",
   "name": "python",
   "nbconvert_exporter": "python",
   "pygments_lexer": "ipython3",
   "version": "3.9.12"
  },
  "latex_envs": {
   "LaTeX_envs_menu_present": true,
   "autoclose": false,
   "autocomplete": true,
   "bibliofile": "biblio.bib",
   "cite_by": "apalike",
   "current_citInitial": 1,
   "eqLabelWithNumbers": true,
   "eqNumInitial": 1,
   "hotkeys": {
    "equation": "Ctrl-E",
    "itemize": "Ctrl-I"
   },
   "labels_anchors": false,
   "latex_user_defs": false,
   "report_style_numbering": false,
   "user_envs_cfg": false
  }
 },
 "nbformat": 4,
 "nbformat_minor": 4
}
